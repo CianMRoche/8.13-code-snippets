{
 "cells": [
  {
   "cell_type": "code",
   "execution_count": 2,
   "metadata": {},
   "outputs": [],
   "source": [
    "import numpy as np\n",
    "import pandas as pd"
   ]
  },
  {
   "cell_type": "code",
   "execution_count": 3,
   "metadata": {},
   "outputs": [],
   "source": [
    "detector1_filename = \"./FileC010.txt\"\n",
    "\n",
    "col_names_list = [\"Event\", 'Time', 'Date', 'TimeStamp[ms]', 'ADC1', 'ADC2', 'SiPM[mV]', 'Temp[C]', 'Pressure[Pa]', 'DeadTime[us]', 'Coincident', 'ID']\n",
    "\n",
    "data1 = pd.read_csv(detector1_filename, skiprows=7, sep=\"\\t\", names = col_names_list, index_col=False)#.set_index(\"Event\")"
   ]
  },
  {
   "cell_type": "code",
   "execution_count": 4,
   "metadata": {},
   "outputs": [
    {
     "data": {
      "text/html": [
       "<div>\n",
       "<style scoped>\n",
       "    .dataframe tbody tr th:only-of-type {\n",
       "        vertical-align: middle;\n",
       "    }\n",
       "\n",
       "    .dataframe tbody tr th {\n",
       "        vertical-align: top;\n",
       "    }\n",
       "\n",
       "    .dataframe thead th {\n",
       "        text-align: right;\n",
       "    }\n",
       "</style>\n",
       "<table border=\"1\" class=\"dataframe\">\n",
       "  <thead>\n",
       "    <tr style=\"text-align: right;\">\n",
       "      <th></th>\n",
       "      <th>Event</th>\n",
       "      <th>Time</th>\n",
       "      <th>Date</th>\n",
       "      <th>TimeStamp[ms]</th>\n",
       "      <th>ADC1</th>\n",
       "      <th>ADC2</th>\n",
       "      <th>SiPM[mV]</th>\n",
       "      <th>Temp[C]</th>\n",
       "      <th>Pressure[Pa]</th>\n",
       "      <th>DeadTime[us]</th>\n",
       "      <th>Coincident</th>\n",
       "      <th>ID</th>\n",
       "    </tr>\n",
       "  </thead>\n",
       "  <tbody>\n",
       "    <tr>\n",
       "      <th>0</th>\n",
       "      <td>1</td>\n",
       "      <td>21:37:14</td>\n",
       "      <td>26/4/2022</td>\n",
       "      <td>86</td>\n",
       "      <td>68.0</td>\n",
       "      <td>7.0</td>\n",
       "      <td>5.95</td>\n",
       "      <td>30.25</td>\n",
       "      <td>101010.12</td>\n",
       "      <td>47972</td>\n",
       "      <td>0</td>\n",
       "      <td>Umbriel</td>\n",
       "    </tr>\n",
       "    <tr>\n",
       "      <th>1</th>\n",
       "      <td>2</td>\n",
       "      <td>21:37:14</td>\n",
       "      <td>26/4/2022</td>\n",
       "      <td>461</td>\n",
       "      <td>156.0</td>\n",
       "      <td>7.0</td>\n",
       "      <td>8.18</td>\n",
       "      <td>30.25</td>\n",
       "      <td>101010.12</td>\n",
       "      <td>5940</td>\n",
       "      <td>0</td>\n",
       "      <td>Umbriel</td>\n",
       "    </tr>\n",
       "    <tr>\n",
       "      <th>2</th>\n",
       "      <td>3</td>\n",
       "      <td>21:37:14</td>\n",
       "      <td>26/4/2022</td>\n",
       "      <td>630</td>\n",
       "      <td>647.0</td>\n",
       "      <td>11.0</td>\n",
       "      <td>15.04</td>\n",
       "      <td>30.25</td>\n",
       "      <td>101010.12</td>\n",
       "      <td>49818</td>\n",
       "      <td>0</td>\n",
       "      <td>Umbriel</td>\n",
       "    </tr>\n",
       "    <tr>\n",
       "      <th>3</th>\n",
       "      <td>4</td>\n",
       "      <td>21:37:14</td>\n",
       "      <td>26/4/2022</td>\n",
       "      <td>853</td>\n",
       "      <td>439.0</td>\n",
       "      <td>8.0</td>\n",
       "      <td>12.41</td>\n",
       "      <td>30.25</td>\n",
       "      <td>101009.78</td>\n",
       "      <td>1849</td>\n",
       "      <td>0</td>\n",
       "      <td>Umbriel</td>\n",
       "    </tr>\n",
       "    <tr>\n",
       "      <th>4</th>\n",
       "      <td>5</td>\n",
       "      <td>21:37:15</td>\n",
       "      <td>26/4/2022</td>\n",
       "      <td>1251</td>\n",
       "      <td>680.0</td>\n",
       "      <td>15.0</td>\n",
       "      <td>16.44</td>\n",
       "      <td>30.25</td>\n",
       "      <td>101009.61</td>\n",
       "      <td>1848</td>\n",
       "      <td>0</td>\n",
       "      <td>Umbriel</td>\n",
       "    </tr>\n",
       "    <tr>\n",
       "      <th>...</th>\n",
       "      <td>...</td>\n",
       "      <td>...</td>\n",
       "      <td>...</td>\n",
       "      <td>...</td>\n",
       "      <td>...</td>\n",
       "      <td>...</td>\n",
       "      <td>...</td>\n",
       "      <td>...</td>\n",
       "      <td>...</td>\n",
       "      <td>...</td>\n",
       "      <td>...</td>\n",
       "      <td>...</td>\n",
       "    </tr>\n",
       "    <tr>\n",
       "      <th>7653</th>\n",
       "      <td>7654</td>\n",
       "      <td>22:19:32</td>\n",
       "      <td>26/4/2022</td>\n",
       "      <td>2537659</td>\n",
       "      <td>102.0</td>\n",
       "      <td>7.0</td>\n",
       "      <td>6.64</td>\n",
       "      <td>29.09</td>\n",
       "      <td>100930.36</td>\n",
       "      <td>51809</td>\n",
       "      <td>0</td>\n",
       "      <td>Umbriel</td>\n",
       "    </tr>\n",
       "    <tr>\n",
       "      <th>7654</th>\n",
       "      <td>7655</td>\n",
       "      <td>22:19:32</td>\n",
       "      <td>26/4/2022</td>\n",
       "      <td>2537951</td>\n",
       "      <td>333.0</td>\n",
       "      <td>8.0</td>\n",
       "      <td>11.47</td>\n",
       "      <td>29.09</td>\n",
       "      <td>100930.36</td>\n",
       "      <td>1851</td>\n",
       "      <td>0</td>\n",
       "      <td>Umbriel</td>\n",
       "    </tr>\n",
       "    <tr>\n",
       "      <th>7655</th>\n",
       "      <td>7656</td>\n",
       "      <td>22:19:32</td>\n",
       "      <td>26/4/2022</td>\n",
       "      <td>2538085</td>\n",
       "      <td>958.0</td>\n",
       "      <td>279.0</td>\n",
       "      <td>53.87</td>\n",
       "      <td>29.09</td>\n",
       "      <td>100930.36</td>\n",
       "      <td>1847</td>\n",
       "      <td>0</td>\n",
       "      <td>Umbriel</td>\n",
       "    </tr>\n",
       "    <tr>\n",
       "      <th>7656</th>\n",
       "      <td>7657</td>\n",
       "      <td>22:19:33</td>\n",
       "      <td>26/4/2022</td>\n",
       "      <td>2538476</td>\n",
       "      <td>198.0</td>\n",
       "      <td>8.0</td>\n",
       "      <td>9.25</td>\n",
       "      <td>29.09</td>\n",
       "      <td>100930.36</td>\n",
       "      <td>1850</td>\n",
       "      <td>0</td>\n",
       "      <td>Umbriel</td>\n",
       "    </tr>\n",
       "    <tr>\n",
       "      <th>7657</th>\n",
       "      <td>7658</td>\n",
       "      <td>22:19:33</td>\n",
       "      <td>26/4/2022</td>\n",
       "      <td>2538697</td>\n",
       "      <td>131.0</td>\n",
       "      <td>8.0</td>\n",
       "      <td>7.47</td>\n",
       "      <td>29.09</td>\n",
       "      <td>100930.36</td>\n",
       "      <td>49824</td>\n",
       "      <td>0</td>\n",
       "      <td>Umbriel</td>\n",
       "    </tr>\n",
       "  </tbody>\n",
       "</table>\n",
       "<p>7658 rows × 12 columns</p>\n",
       "</div>"
      ],
      "text/plain": [
       "      Event      Time        Date  TimeStamp[ms]   ADC1   ADC2  SiPM[mV]  \\\n",
       "0         1  21:37:14  26/4/2022              86   68.0    7.0      5.95   \n",
       "1         2  21:37:14  26/4/2022             461  156.0    7.0      8.18   \n",
       "2         3  21:37:14  26/4/2022             630  647.0   11.0     15.04   \n",
       "3         4  21:37:14  26/4/2022             853  439.0    8.0     12.41   \n",
       "4         5  21:37:15  26/4/2022            1251  680.0   15.0     16.44   \n",
       "...     ...       ...         ...            ...    ...    ...       ...   \n",
       "7653   7654  22:19:32  26/4/2022         2537659  102.0    7.0      6.64   \n",
       "7654   7655  22:19:32  26/4/2022         2537951  333.0    8.0     11.47   \n",
       "7655   7656  22:19:32  26/4/2022         2538085  958.0  279.0     53.87   \n",
       "7656   7657  22:19:33  26/4/2022         2538476  198.0    8.0      9.25   \n",
       "7657   7658  22:19:33  26/4/2022         2538697  131.0    8.0      7.47   \n",
       "\n",
       "      Temp[C]  Pressure[Pa]  DeadTime[us]  Coincident       ID  \n",
       "0       30.25     101010.12         47972           0  Umbriel  \n",
       "1       30.25     101010.12          5940           0  Umbriel  \n",
       "2       30.25     101010.12         49818           0  Umbriel  \n",
       "3       30.25     101009.78          1849           0  Umbriel  \n",
       "4       30.25     101009.61          1848           0  Umbriel  \n",
       "...       ...           ...           ...         ...      ...  \n",
       "7653    29.09     100930.36         51809           0  Umbriel  \n",
       "7654    29.09     100930.36          1851           0  Umbriel  \n",
       "7655    29.09     100930.36          1847           0  Umbriel  \n",
       "7656    29.09     100930.36          1850           0  Umbriel  \n",
       "7657    29.09     100930.36         49824           0  Umbriel  \n",
       "\n",
       "[7658 rows x 12 columns]"
      ]
     },
     "execution_count": 4,
     "metadata": {},
     "output_type": "execute_result"
    }
   ],
   "source": [
    "data1"
   ]
  },
  {
   "cell_type": "code",
   "execution_count": 5,
   "metadata": {},
   "outputs": [],
   "source": [
    "timestamps = data1['TimeStamp[ms]'].to_numpy()\n",
    "\n",
    "coincidence = data1['Coincident'].to_numpy()\n"
   ]
  },
  {
   "cell_type": "code",
   "execution_count": 6,
   "metadata": {},
   "outputs": [
    {
     "data": {
      "text/plain": [
       "array([     86,     461,     630, ..., 2538085, 2538476, 2538697],\n",
       "      dtype=int64)"
      ]
     },
     "execution_count": 6,
     "metadata": {},
     "output_type": "execute_result"
    }
   ],
   "source": [
    "timestamps"
   ]
  },
  {
   "cell_type": "code",
   "execution_count": 7,
   "metadata": {},
   "outputs": [
    {
     "data": {
      "text/plain": [
       "[0, 1, 2, 3]"
      ]
     },
     "execution_count": 7,
     "metadata": {},
     "output_type": "execute_result"
    }
   ],
   "source": [
    "np.sum(coincidence) # number of coincident hits\n",
    "\n",
    "my_list = [p for p in range(4)]\n",
    "my_list"
   ]
  },
  {
   "cell_type": "code",
   "execution_count": 8,
   "metadata": {},
   "outputs": [],
   "source": [
    "binwidth = 1000*10 # in milliseconds\n",
    "time_bins = np.arange(min(timestamps), max(timestamps) + binwidth, binwidth)\n",
    "\n",
    "binned_coincidence = [np.sum(coincidence[np.where((timestamps > low) & (timestamps <= high))]) for low, high in zip(time_bins[:-1], time_bins[1:])]\n"
   ]
  },
  {
   "cell_type": "code",
   "execution_count": 9,
   "metadata": {},
   "outputs": [
    {
     "data": {
      "text/plain": [
       "(array([94., 88., 46., 19.,  5.,  2.,  0.]),\n",
       " array([0, 1, 2, 3, 4, 5, 6, 7]),\n",
       " <BarContainer object of 7 artists>)"
      ]
     },
     "execution_count": 9,
     "metadata": {},
     "output_type": "execute_result"
    },
    {
     "data": {
      "image/png": "[encoded data removed]",
      "text/plain": [
       "<Figure size 640x480 with 1 Axes>"
      ]
     },
     "metadata": {},
     "output_type": "display_data"
    }
   ],
   "source": [
    "import matplotlib.pyplot as plt\n",
    "plt.style.use('seaborn-colorblind')\n",
    "\n",
    "plt.hist(binned_coincidence, bins=range(8), rwidth=0.85)"
   ]
  },
  {
   "cell_type": "code",
   "execution_count": null,
   "metadata": {},
   "outputs": [],
   "source": []
  }
 ],
 "metadata": {
  "kernelspec": {
   "display_name": "Python 3.10.4 ('jlab')",
   "language": "python",
   "name": "python3"
  },
  "language_info": {
   "codemirror_mode": {
    "name": "ipython",
    "version": 3
   },
   "file_extension": ".py",
   "mimetype": "text/x-python",
   "name": "python",
   "nbconvert_exporter": "python",
   "pygments_lexer": "ipython3",
   "version": "3.10.4"
  },
  "orig_nbformat": 4,
  "vscode": {
   "interpreter": {
    "hash": "267708c44187b099f6720d3af037c85d4eba099c4c6271db93edacec570f181b"
   }
  }
 },
 "nbformat": 4,
 "nbformat_minor": 2
}
